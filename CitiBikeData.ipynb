{
 "cells": [
  {
   "cell_type": "code",
   "execution_count": 43,
   "metadata": {},
   "outputs": [],
   "source": [
    "import pandas as pd\n",
    "import numpy as np\n",
    "import plotly.plotly as py\n",
    "import plotly.graph_objs as go\n",
    "import plotly\n",
    "plotly.tools.set_credentials_file(username='Ashwini__', api_key='ipQKFM2zb12IsrIIrveI')\n",
    "import io\n",
    "import matplotlib.pyplot as plt\n",
    "import seaborn as sns\n",
    "%matplotlib inline\n"
   ]
  },
  {
   "cell_type": "code",
   "execution_count": 44,
   "metadata": {},
   "outputs": [
    {
     "data": {
      "text/plain": [
       "tripduration                 int64\n",
       "starttime                   object\n",
       "stoptime                    object\n",
       "start station id             int64\n",
       "start station name          object\n",
       "start station latitude     float64\n",
       "start station longitude    float64\n",
       "end station id               int64\n",
       "end station name            object\n",
       "end station latitude       float64\n",
       "end station longitude      float64\n",
       "bikeid                       int64\n",
       "usertype                    object\n",
       "birth year                   int64\n",
       "gender                       int64\n",
       "dtype: object"
      ]
     },
     "execution_count": 44,
     "metadata": {},
     "output_type": "execute_result"
    }
   ],
   "source": [
    "#Loading File\n",
    "CitiDataFile = pd.read_csv(\"CitiBike Data.csv\")\n",
    "CitiDataFile.head(5)\n",
    "CitiDataFile.dtypes"
   ]
  },
  {
   "cell_type": "code",
   "execution_count": 45,
   "metadata": {},
   "outputs": [
    {
     "data": {
      "text/plain": [
       "2"
      ]
     },
     "execution_count": 45,
     "metadata": {},
     "output_type": "execute_result"
    }
   ],
   "source": [
    "#Summary Statistics\n",
    "CitiDataFile.describe()\n",
    "CitiDataFile.describe().transpose()\n",
    "CitiDataFile.ndim"
   ]
  },
  {
   "cell_type": "code",
   "execution_count": 46,
   "metadata": {},
   "outputs": [
    {
     "data": {
      "text/plain": [
       "tripduration               0\n",
       "starttime                  0\n",
       "stoptime                   0\n",
       "start station id           0\n",
       "start station name         0\n",
       "start station latitude     0\n",
       "start station longitude    0\n",
       "end station id             0\n",
       "end station name           0\n",
       "end station latitude       0\n",
       "end station longitude      0\n",
       "bikeid                     0\n",
       "usertype                   0\n",
       "birth year                 0\n",
       "gender                     0\n",
       "dtype: int64"
      ]
     },
     "execution_count": 46,
     "metadata": {},
     "output_type": "execute_result"
    }
   ],
   "source": [
    "#Data Cleaning - Checking for missing data\n",
    "CitiDataFile.isnull().any().any(), CitiDataFile.shape\n",
    "CitiDataFile.isnull().sum(axis=0)"
   ]
  },
  {
   "cell_type": "code",
   "execution_count": 47,
   "metadata": {},
   "outputs": [
    {
     "data": {
      "text/plain": [
       "0          1.0\n",
       "1          1.0\n",
       "2          1.0\n",
       "3          1.0\n",
       "4          1.0\n",
       "5          1.0\n",
       "6          1.0\n",
       "7          1.0\n",
       "8          1.0\n",
       "9          1.0\n",
       "10         1.0\n",
       "11         1.0\n",
       "12         1.0\n",
       "13         1.0\n",
       "14         1.1\n",
       "15         1.1\n",
       "16         1.1\n",
       "17         1.1\n",
       "18         1.1\n",
       "19         1.1\n",
       "20         1.1\n",
       "21         1.1\n",
       "22         1.1\n",
       "23         1.1\n",
       "24         1.1\n",
       "25         1.1\n",
       "26         1.1\n",
       "27         1.1\n",
       "28         1.1\n",
       "29         1.1\n",
       "         ...  \n",
       "20823    123.9\n",
       "20824    127.9\n",
       "20825    128.0\n",
       "20826    130.2\n",
       "20827    136.7\n",
       "20828    140.3\n",
       "20829    145.4\n",
       "20830    148.4\n",
       "20831    151.8\n",
       "20832    159.7\n",
       "20833    163.5\n",
       "20834    165.7\n",
       "20835    177.5\n",
       "20836    178.7\n",
       "20837    187.0\n",
       "20838    187.5\n",
       "20839    189.6\n",
       "20840    203.5\n",
       "20841    204.5\n",
       "20842    226.2\n",
       "20843    293.7\n",
       "20844    298.6\n",
       "20845    345.5\n",
       "20846    360.9\n",
       "20847    392.7\n",
       "20848    420.1\n",
       "20849    423.3\n",
       "20850    534.2\n",
       "20851    539.9\n",
       "20852    560.1\n",
       "Name: tripduration, Length: 20853, dtype: float64"
      ]
     },
     "execution_count": 47,
     "metadata": {},
     "output_type": "execute_result"
    }
   ],
   "source": [
    "#Summary Statistics for tripduration in minutes\n",
    "\n",
    "CitiDataFile['tripduration'] = CitiDataFile['tripduration'].apply(lambda x: x/60)\n",
    "CitiDataFile['tripduration']"
   ]
  },
  {
   "cell_type": "code",
   "execution_count": 48,
   "metadata": {},
   "outputs": [
    {
     "data": {
      "text/plain": [
       "0        33\n",
       "1        35\n",
       "2        61\n",
       "3        46\n",
       "4        33\n",
       "5        30\n",
       "6        39\n",
       "7        52\n",
       "8        29\n",
       "9        29\n",
       "10       30\n",
       "11       54\n",
       "12       55\n",
       "13       40\n",
       "14       38\n",
       "15       40\n",
       "16       44\n",
       "17       45\n",
       "18       54\n",
       "19       40\n",
       "20       59\n",
       "21       39\n",
       "22       43\n",
       "23       77\n",
       "24       42\n",
       "25       35\n",
       "26       54\n",
       "27       70\n",
       "28       61\n",
       "29       28\n",
       "         ..\n",
       "20823    50\n",
       "20824    55\n",
       "20825    28\n",
       "20826    39\n",
       "20827    45\n",
       "20828    40\n",
       "20829    65\n",
       "20830    40\n",
       "20831    36\n",
       "20832    39\n",
       "20833    59\n",
       "20834    31\n",
       "20835    30\n",
       "20836    60\n",
       "20837    37\n",
       "20838    43\n",
       "20839    31\n",
       "20840    39\n",
       "20841    45\n",
       "20842    35\n",
       "20843    34\n",
       "20844    52\n",
       "20845    34\n",
       "20846    36\n",
       "20847    31\n",
       "20848    41\n",
       "20849    39\n",
       "20850    42\n",
       "20851    30\n",
       "20852    39\n",
       "Name: Age, Length: 20853, dtype: int32"
      ]
     },
     "execution_count": 48,
     "metadata": {},
     "output_type": "execute_result"
    }
   ],
   "source": [
    "#Correlation between age and tripduration\n",
    "\n",
    "CitiDataFile['Age'] = 2018 - CitiDataFile['birth year']\n",
    "CitiDataFile['Age'] = CitiDataFile['Age'].astype(int)\n",
    "CitiDataFile['Age'].corr(CitiDataFile['tripduration'])\n",
    "CitiDataFile['Age']"
   ]
  },
  {
   "cell_type": "code",
   "execution_count": 49,
   "metadata": {},
   "outputs": [
    {
     "data": {
      "text/html": [
       "<div>\n",
       "<style scoped>\n",
       "    .dataframe tbody tr th:only-of-type {\n",
       "        vertical-align: middle;\n",
       "    }\n",
       "\n",
       "    .dataframe tbody tr th {\n",
       "        vertical-align: top;\n",
       "    }\n",
       "\n",
       "    .dataframe thead th {\n",
       "        text-align: right;\n",
       "    }\n",
       "</style>\n",
       "<table border=\"1\" class=\"dataframe\">\n",
       "  <thead>\n",
       "    <tr style=\"text-align: right;\">\n",
       "      <th></th>\n",
       "      <th>tripduration</th>\n",
       "      <th>starttime</th>\n",
       "      <th>stoptime</th>\n",
       "      <th>start station id</th>\n",
       "      <th>start station name</th>\n",
       "      <th>start station latitude</th>\n",
       "      <th>start station longitude</th>\n",
       "      <th>end station id</th>\n",
       "      <th>end station name</th>\n",
       "      <th>end station latitude</th>\n",
       "      <th>end station longitude</th>\n",
       "      <th>bikeid</th>\n",
       "      <th>usertype</th>\n",
       "      <th>birth year</th>\n",
       "      <th>gender</th>\n",
       "      <th>Age</th>\n",
       "    </tr>\n",
       "  </thead>\n",
       "  <tbody>\n",
       "    <tr>\n",
       "      <th>0</th>\n",
       "      <td>1.0</td>\n",
       "      <td>7/3/13 18:13</td>\n",
       "      <td>7/3/13 18:14</td>\n",
       "      <td>434</td>\n",
       "      <td>9 Ave &amp; W 18 St</td>\n",
       "      <td>40.743174</td>\n",
       "      <td>-74.003664</td>\n",
       "      <td>434</td>\n",
       "      <td>9 Ave &amp; W 18 St</td>\n",
       "      <td>40.743174</td>\n",
       "      <td>-74.003664</td>\n",
       "      <td>18197</td>\n",
       "      <td>Subscriber</td>\n",
       "      <td>1985</td>\n",
       "      <td>2</td>\n",
       "      <td>33</td>\n",
       "    </tr>\n",
       "    <tr>\n",
       "      <th>2</th>\n",
       "      <td>1.0</td>\n",
       "      <td>7/24/13 22:02</td>\n",
       "      <td>7/24/13 22:03</td>\n",
       "      <td>468</td>\n",
       "      <td>Broadway &amp; W 55 St</td>\n",
       "      <td>40.765265</td>\n",
       "      <td>-73.981923</td>\n",
       "      <td>468</td>\n",
       "      <td>Broadway &amp; W 55 St</td>\n",
       "      <td>40.765265</td>\n",
       "      <td>-73.981923</td>\n",
       "      <td>16780</td>\n",
       "      <td>Subscriber</td>\n",
       "      <td>1957</td>\n",
       "      <td>2</td>\n",
       "      <td>61</td>\n",
       "    </tr>\n",
       "    <tr>\n",
       "      <th>7</th>\n",
       "      <td>1.0</td>\n",
       "      <td>7/6/13 20:59</td>\n",
       "      <td>7/6/13 21:00</td>\n",
       "      <td>476</td>\n",
       "      <td>E 31 St &amp; 3 Ave</td>\n",
       "      <td>40.743943</td>\n",
       "      <td>-73.979661</td>\n",
       "      <td>476</td>\n",
       "      <td>E 31 St &amp; 3 Ave</td>\n",
       "      <td>40.743943</td>\n",
       "      <td>-73.979661</td>\n",
       "      <td>15579</td>\n",
       "      <td>Subscriber</td>\n",
       "      <td>1966</td>\n",
       "      <td>2</td>\n",
       "      <td>52</td>\n",
       "    </tr>\n",
       "    <tr>\n",
       "      <th>9</th>\n",
       "      <td>1.0</td>\n",
       "      <td>7/22/13 17:23</td>\n",
       "      <td>7/22/13 17:24</td>\n",
       "      <td>356</td>\n",
       "      <td>Bialystoker Pl &amp; Delancey St</td>\n",
       "      <td>40.716226</td>\n",
       "      <td>-73.982612</td>\n",
       "      <td>356</td>\n",
       "      <td>Bialystoker Pl &amp; Delancey St</td>\n",
       "      <td>40.716226</td>\n",
       "      <td>-73.982612</td>\n",
       "      <td>15585</td>\n",
       "      <td>Subscriber</td>\n",
       "      <td>1989</td>\n",
       "      <td>2</td>\n",
       "      <td>29</td>\n",
       "    </tr>\n",
       "    <tr>\n",
       "      <th>10</th>\n",
       "      <td>1.0</td>\n",
       "      <td>7/26/13 20:59</td>\n",
       "      <td>7/26/13 21:00</td>\n",
       "      <td>438</td>\n",
       "      <td>St Marks Pl &amp; 1 Ave</td>\n",
       "      <td>40.727791</td>\n",
       "      <td>-73.985649</td>\n",
       "      <td>438</td>\n",
       "      <td>St Marks Pl &amp; 1 Ave</td>\n",
       "      <td>40.727791</td>\n",
       "      <td>-73.985649</td>\n",
       "      <td>20232</td>\n",
       "      <td>Subscriber</td>\n",
       "      <td>1988</td>\n",
       "      <td>2</td>\n",
       "      <td>30</td>\n",
       "    </tr>\n",
       "  </tbody>\n",
       "</table>\n",
       "</div>"
      ],
      "text/plain": [
       "    tripduration      starttime       stoptime  start station id  \\\n",
       "0            1.0   7/3/13 18:13   7/3/13 18:14               434   \n",
       "2            1.0  7/24/13 22:02  7/24/13 22:03               468   \n",
       "7            1.0   7/6/13 20:59   7/6/13 21:00               476   \n",
       "9            1.0  7/22/13 17:23  7/22/13 17:24               356   \n",
       "10           1.0  7/26/13 20:59  7/26/13 21:00               438   \n",
       "\n",
       "              start station name  start station latitude  \\\n",
       "0                9 Ave & W 18 St               40.743174   \n",
       "2             Broadway & W 55 St               40.765265   \n",
       "7                E 31 St & 3 Ave               40.743943   \n",
       "9   Bialystoker Pl & Delancey St               40.716226   \n",
       "10           St Marks Pl & 1 Ave               40.727791   \n",
       "\n",
       "    start station longitude  end station id              end station name  \\\n",
       "0                -74.003664             434               9 Ave & W 18 St   \n",
       "2                -73.981923             468            Broadway & W 55 St   \n",
       "7                -73.979661             476               E 31 St & 3 Ave   \n",
       "9                -73.982612             356  Bialystoker Pl & Delancey St   \n",
       "10               -73.985649             438           St Marks Pl & 1 Ave   \n",
       "\n",
       "    end station latitude  end station longitude  bikeid    usertype  \\\n",
       "0              40.743174             -74.003664   18197  Subscriber   \n",
       "2              40.765265             -73.981923   16780  Subscriber   \n",
       "7              40.743943             -73.979661   15579  Subscriber   \n",
       "9              40.716226             -73.982612   15585  Subscriber   \n",
       "10             40.727791             -73.985649   20232  Subscriber   \n",
       "\n",
       "    birth year  gender  Age  \n",
       "0         1985       2   33  \n",
       "2         1957       2   61  \n",
       "7         1966       2   52  \n",
       "9         1989       2   29  \n",
       "10        1988       2   30  "
      ]
     },
     "execution_count": 49,
     "metadata": {},
     "output_type": "execute_result"
    }
   ],
   "source": [
    "#subsetting data\n",
    "femaletrip = CitiDataFile['gender'] == 2\n",
    "CitiDataFile[femaletrip].head()\n",
    "FemaleTripData = CitiDataFile[femaletrip]\n",
    "FemaleTripData.head()\n"
   ]
  },
  {
   "cell_type": "code",
   "execution_count": 50,
   "metadata": {},
   "outputs": [
    {
     "data": {
      "text/plain": [
       "1"
      ]
     },
     "execution_count": 50,
     "metadata": {},
     "output_type": "execute_result"
    },
    {
     "data": {
      "image/png": "[encoded data removed]",
      "text/plain": [
       "<Figure size 432x288 with 1 Axes>"
      ]
     },
     "metadata": {},
     "output_type": "display_data"
    }
   ],
   "source": [
    "#anamolies in the data set\n",
    "sns.boxplot(x=\"usertype\",y=\"tripduration\",data=CitiDataFile, showfliers=False)\n",
    "Customertype =CitiDataFile['usertype']==\"Customer\"\n",
    "CitiDataFile[Customertype].usertype.count()\n",
    "#just one record with the usertype customer - which is insufficent for any data analysis "
   ]
  },
  {
   "cell_type": "code",
   "execution_count": 51,
   "metadata": {},
   "outputs": [],
   "source": [
    "#Droping the anamolies\n",
    "d1 = CitiDataFile[CitiDataFile.gender !=0 ]\n",
    "df = d1[d1.usertype!='customer']"
   ]
  },
  {
   "cell_type": "code",
   "execution_count": 52,
   "metadata": {},
   "outputs": [
    {
     "data": {
      "text/plain": [
       "<matplotlib.axes._subplots.AxesSubplot at 0x27230ba6da0>"
      ]
     },
     "execution_count": 52,
     "metadata": {},
     "output_type": "execute_result"
    },
    {
     "data": {
      "image/png": "[encoded data removed]",
      "text/plain": [
       "<Figure size 432x288 with 1 Axes>"
      ]
     },
     "metadata": {},
     "output_type": "display_data"
    }
   ],
   "source": [
    "#Box Plot for tripduration by gender\n",
    "\n",
    "sns.set(style=\"darkgrid\")\n",
    "sns.boxplot(y=\"tripduration\",x=\"gender\",data=df,showfliers=False)"
   ]
  },
  {
   "cell_type": "code",
   "execution_count": 53,
   "metadata": {},
   "outputs": [
    {
     "data": {
      "text/plain": [
       "838788.3999999987"
      ]
     },
     "execution_count": 53,
     "metadata": {},
     "output_type": "execute_result"
    }
   ],
   "source": [
    "#The total revenue - all users riding bikes from 0 to 45 minutes pay $3 per ride and user exceeding 45 minutes pay an additional $2 per ride.\n",
    "durationabove45 = df['tripduration'] > 45\n",
    "durationbelow45 = df['tripduration'] <= 45\n",
    "revenue= sum(df[durationbelow45].tripduration)*3+ sum(df[durationabove45].tripduration)*2\n",
    "revenue\n"
   ]
  },
  {
   "cell_type": "code",
   "execution_count": 54,
   "metadata": {},
   "outputs": [
    {
     "name": "stdout",
     "output_type": "stream",
     "text": [
      "216\n"
     ]
    },
    {
     "data": {
      "text/plain": [
       "1.0359712230215827"
      ]
     },
     "execution_count": 54,
     "metadata": {},
     "output_type": "execute_result"
    }
   ],
   "source": [
    "#Looking at tripduration in minutes, what can we say about the variance in the data.\n",
    "df['tripduration'].std()\n",
    "df['tripduration'].var()\n",
    "durationabove45 = df['tripduration'] > 45\n",
    "\n",
    "print(df[durationabove45].tripduration.count())#216 records above 45 minutes of trip duration.\n",
    "\n",
    "PercentageOfrecords = (df[durationabove45].tripduration.count()/df['tripduration'].count())*100\n",
    "PercentageOfrecords #just 1% of Data have tripduration above 45mins "
   ]
  },
  {
   "cell_type": "code",
   "execution_count": 55,
   "metadata": {},
   "outputs": [],
   "source": [
    "#Pricing Strategy - \n",
    "#The pricing strategy is targeting the duration of trips above 45mins per ride. With just 1% of data accounting to trips above 45mins, clearly the strategy is less effective.\n"
   ]
  },
  {
   "cell_type": "code",
   "execution_count": 63,
   "metadata": {},
   "outputs": [
    {
     "name": "stdout",
     "output_type": "stream",
     "text": [
      "High five! You successfully sent some data to your account on plotly. View your plot in your browser at https://plot.ly/~Ashwini__/0 or inside your plot.ly account where it is named 'Popular Trips-chart'\n"
     ]
    }
   ],
   "source": [
    "#Highly popular trip from the data\n",
    "\n",
    "PopularTrip = df.groupby(['start station name','end station name']).size().reset_index(name = 'Total Trips')\n",
    "PopularTrip\n",
    "PopularTrip['station details'] = PopularTrip['start station name'].map(str) + \" to \" + df['end station name']\n",
    "PopularTrip\n",
    "barp = [go.Bar(x=PopularTrip['Total Trips'], y=PopularTrip['station details'])]\n",
    "url = py.plot(barp, filename='Popular Trips-chart')"
   ]
  },
  {
   "cell_type": "code",
   "execution_count": null,
   "metadata": {},
   "outputs": [],
   "source": [
    "\n"
   ]
  },
  {
   "cell_type": "code",
   "execution_count": null,
   "metadata": {},
   "outputs": [],
   "source": []
  },
  {
   "cell_type": "code",
   "execution_count": null,
   "metadata": {},
   "outputs": [],
   "source": []
  }
 ],
 "metadata": {
  "kernelspec": {
   "display_name": "Python 3",
   "language": "python",
   "name": "python3"
  },
  "language_info": {
   "codemirror_mode": {
    "name": "ipython",
    "version": 3
   },
   "file_extension": ".py",
   "mimetype": "text/x-python",
   "name": "python",
   "nbconvert_exporter": "python",
   "pygments_lexer": "ipython3",
   "version": "3.6.5"
  }
 },
 "nbformat": 4,
 "nbformat_minor": 2
}
